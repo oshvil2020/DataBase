{
  "nbformat": 4,
  "nbformat_minor": 0,
  "metadata": {
    "colab": {
      "name": "Db 1.ipynb",
      "provenance": [],
      "collapsed_sections": [],
      "include_colab_link": true
    },
    "kernelspec": {
      "name": "python3",
      "display_name": "Python 3"
    },
    "language_info": {
      "name": "python"
    }
  },
  "cells": [
    {
      "cell_type": "markdown",
      "metadata": {
        "id": "view-in-github",
        "colab_type": "text"
      },
      "source": [
        "<a href=\"https://colab.research.google.com/github/oshvil2020/DataBase/blob/main/Db_1.ipynb\" target=\"_parent\"><img src=\"https://colab.research.google.com/assets/colab-badge.svg\" alt=\"Open In Colab\"/></a>"
      ]
    },
    {
      "cell_type": "markdown",
      "metadata": {
        "id": "UU4wqH0fZZ1_"
      },
      "source": [
        "# DATA BASE (MYSQL)\n",
        "##Installation\n",
        "Python needs a MySQL driver to access the MySQL database.\n",
        "\n",
        "In this tutorial we will use the driver \"MySQL Connector\".\n",
        "\n",
        "We recommend that you use PIP to install \"MySQL Connector\".\n",
        "\n",
        "PIP is most likely already installed in your Python environment.\n",
        "\n",
        "Navigate your command line to the location of PIP, and type the following:"
      ]
    },
    {
      "cell_type": "code",
      "metadata": {
        "id": "B-nidZkHZXf7"
      },
      "source": [
        "!! pip install mysql-connector-python"
      ],
      "execution_count": null,
      "outputs": []
    },
    {
      "cell_type": "markdown",
      "metadata": {
        "id": "KeKichCOZvmT"
      },
      "source": [
        "##Test MySQL Connector\n",
        "To test if the installation was successful, or if you already have \"MySQL Connector\" installed, create a Python page with the following content:"
      ]
    },
    {
      "cell_type": "code",
      "metadata": {
        "id": "Lis30zJMZnt8"
      },
      "source": [
        "import mysql.connector"
      ],
      "execution_count": null,
      "outputs": []
    },
    {
      "cell_type": "markdown",
      "metadata": {
        "id": "VNc_6JgFZ412"
      },
      "source": [
        "##Create Connection\n",
        "Start by creating a connection to the database.\n",
        "\n",
        "Use the username and password from your MySQL database:"
      ]
    },
    {
      "cell_type": "code",
      "metadata": {
        "id": "c3QhckJVZ9wD"
      },
      "source": [
        "import mysql.connector\n",
        "\n",
        "mydb = mysql.connector.connect(\n",
        "  host=\"localhost\",\n",
        "  user=\"yourusername\",\n",
        "  password=\"yourpassword\"\n",
        ")\n",
        "\n",
        "print(mydb)"
      ],
      "execution_count": null,
      "outputs": []
    },
    {
      "cell_type": "markdown",
      "metadata": {
        "id": "feVUEnGMakNz"
      },
      "source": [
        "##Creating a Database\n",
        "To create a database in MySQL, use the \"CREATE DATABASE\" statement"
      ]
    },
    {
      "cell_type": "code",
      "metadata": {
        "id": "HH7nDY1dalmr"
      },
      "source": [
        "import mysql.connector\n",
        "\n",
        "mydb = mysql.connector.connect(\n",
        "  host=\"localhost\",\n",
        "  user=\"yourusername\",\n",
        "  password=\"yourpassword\"\n",
        ")\n",
        "\n",
        "mycursor = mydb.cursor()\n",
        "\n",
        "mycursor.execute(\"CREATE DATABASE mydatabase\")\n"
      ],
      "execution_count": null,
      "outputs": []
    },
    {
      "cell_type": "markdown",
      "metadata": {
        "id": "_SzyE_Nrarg2"
      },
      "source": [
        "If the above code was executed with no errors, you have successfully created a database."
      ]
    },
    {
      "cell_type": "markdown",
      "metadata": {
        "id": "V9yKFMaHaspe"
      },
      "source": [
        "##Check if Database Exists\n",
        "You can check if a database exist by listing all databases in your system by using the \"SHOW DATABASES\" statement:\n",
        "\n",
        "Example"
      ]
    },
    {
      "cell_type": "code",
      "metadata": {
        "id": "YsnDKcF-bGEl"
      },
      "source": [
        "import mysql.connector\n",
        "\n",
        "mydb = mysql.connector.connect(\n",
        "  host=\"localhost\",\n",
        "  user=\"yourusername\",\n",
        "  password=\"yourpassword\"\n",
        ")\n",
        "\n",
        "mycursor = mydb.cursor()\n",
        "\n",
        "mycursor.execute(\"SHOW DATABASES\")\n",
        "\n",
        "for x in mycursor:\n",
        "  print(x)"
      ],
      "execution_count": null,
      "outputs": []
    },
    {
      "cell_type": "markdown",
      "metadata": {
        "id": "pZ1UpN0ybK1_"
      },
      "source": [
        "##Connect to database"
      ]
    },
    {
      "cell_type": "code",
      "metadata": {
        "id": "898JkzFBbNJC"
      },
      "source": [
        "import mysql.connector\n",
        "\n",
        "mydb = mysql.connector.connect(\n",
        "  host=\"localhost\",\n",
        "  user=\"yourusername\",\n",
        "  password=\"yourpassword\",\n",
        "  database=\"mydatabase\"\n",
        ")"
      ],
      "execution_count": null,
      "outputs": []
    }
  ]
}